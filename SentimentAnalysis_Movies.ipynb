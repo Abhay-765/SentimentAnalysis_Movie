{
 "cells": [
  {
   "cell_type": "code",
   "execution_count": 1,
   "metadata": {
    "collapsed": true
   },
   "outputs": [],
   "source": [
    "import nltk.classify.util\n",
    "from nltk.classify import NaiveBayesClassifier\n",
    "from nltk.corpus import movie_reviews\n",
    "from nltk.corpus import stopwords\n",
    "from nltk.tokenize import word_tokenize"
   ]
  },
  {
   "cell_type": "code",
   "execution_count": 2,
   "metadata": {
    "collapsed": true
   },
   "outputs": [],
   "source": [
    "def refine_word(words):\n",
    "    useful_words = [word for word in words if word not in stopwords.words(\"english\")] # remove all stopwords like 'a', 'I', 'the', etc\n",
    "    refine_dict = dict([(word, True) for word in useful_words]) # dictionary allows for repeat words to be removed\n",
    "    return refine_dict "
   ]
  },
  {
   "cell_type": "code",
   "execution_count": 3,
   "metadata": {},
   "outputs": [
    {
     "data": {
      "text/plain": [
       "{'dog': True, 'jumps': True, 'lazy': True}"
      ]
     },
     "execution_count": 3,
     "metadata": {},
     "output_type": "execute_result"
    }
   ],
   "source": [
    "refine_word(['jumps', 'over', 'the', 'lazy', 'dog', 'jumps' ]) #testing to verify our function indeed works"
   ]
  },
  {
   "cell_type": "code",
   "execution_count": 4,
   "metadata": {
    "collapsed": true
   },
   "outputs": [],
   "source": [
    "pos = []\n",
    "for fileid in movie_reviews.fileids('pos'):\n",
    "    words = movie_reviews.words(fileid)\n",
    "    pos.append((refine_word(words), 'positive'))\n"
   ]
  },
  {
   "cell_type": "code",
   "execution_count": 5,
   "metadata": {},
   "outputs": [
    {
     "name": "stdout",
     "output_type": "stream",
     "text": [
      "1000\n"
     ]
    }
   ],
   "source": [
    "print(len(pos))"
   ]
  },
  {
   "cell_type": "code",
   "execution_count": 6,
   "metadata": {
    "collapsed": true
   },
   "outputs": [],
   "source": [
    "neg = []\n",
    "for fileid in movie_reviews.fileids('neg'):\n",
    "    words = movie_reviews.words(fileid)\n",
    "    neg.append((refine_word(words), 'negative'))"
   ]
  },
  {
   "cell_type": "code",
   "execution_count": 7,
   "metadata": {},
   "outputs": [
    {
     "name": "stdout",
     "output_type": "stream",
     "text": [
      "1000\n"
     ]
    }
   ],
   "source": [
    "print(len(neg))"
   ]
  },
  {
   "cell_type": "code",
   "execution_count": 8,
   "metadata": {
    "collapsed": true
   },
   "outputs": [],
   "source": [
    "training_set = neg[:750] + pos[:750]\n",
    "test_set = neg[750:] + pos[750:]"
   ]
  },
  {
   "cell_type": "code",
   "execution_count": 9,
   "metadata": {},
   "outputs": [
    {
     "name": "stdout",
     "output_type": "stream",
     "text": [
      "1500 500\n"
     ]
    }
   ],
   "source": [
    "print(len(training_set), len(test_set))"
   ]
  },
  {
   "cell_type": "code",
   "execution_count": 10,
   "metadata": {
    "collapsed": true
   },
   "outputs": [],
   "source": [
    "classifier = NaiveBayesClassifier.train(training_set) # use Naive Bayes classifier"
   ]
  },
  {
   "cell_type": "code",
   "execution_count": 11,
   "metadata": {
    "collapsed": true
   },
   "outputs": [],
   "source": [
    "accuracy = nltk.classify.util.accuracy(classifier, test_set) #calculate accuracy"
   ]
  },
  {
   "cell_type": "code",
   "execution_count": 12,
   "metadata": {},
   "outputs": [
    {
     "name": "stdout",
     "output_type": "stream",
     "text": [
      "72.4\n"
     ]
    }
   ],
   "source": [
    "print(round(accuracy*100,3))"
   ]
  },
  {
   "cell_type": "code",
   "execution_count": 13,
   "metadata": {
    "collapsed": true
   },
   "outputs": [],
   "source": [
    "#Now we will let our classifier decide if this is a good or bad review"
   ]
  },
  {
   "cell_type": "code",
   "execution_count": 14,
   "metadata": {},
   "outputs": [
    {
     "name": "stdout",
     "output_type": "stream",
     "text": [
      "\n",
      "This may come as a shock to many of you, but The Emoji Movie is not good. In fact, it's really bad. Bad in the way that it doesn't even try much of the time. Bad in the way that it is intended to be a funny children's film with a message about championing individuality and being yourself, but even that tried and true formula falls flat.\n",
      "Did I say it was supposed to be funny? It's not funny. It tries, it has obvious attempts at humor, but it's not funny. Worse, it has a talented and typically hilarious group of people providing the voices for much of these humanoid expressions that exist in a world that doesn't make much sense in the first place. \n",
      "Let's start over as this would be the initial issue that only leads to more of these problems that spawn from the fact this is a movie based on emoji's. It would probably be big of me to say that this movie isn't bad simply because it is a movie based on emoji's, but it is. It represents everything wrong with the studio system from the perspective of attempting a cash grab without any measure of creativity or thought put into the actual work. \n",
      "\n",
      "\n"
     ]
    }
   ],
   "source": [
    "emoji_review = '''\n",
    "This may come as a shock to many of you, but The Emoji Movie is not good. In fact, it's really bad. Bad in the way that it doesn't even try much of the time. Bad in the way that it is intended to be a funny children's film with a message about championing individuality and being yourself, but even that tried and true formula falls flat.\n",
    "Did I say it was supposed to be funny? It's not funny. It tries, it has obvious attempts at humor, but it's not funny. Worse, it has a talented and typically hilarious group of people providing the voices for much of these humanoid expressions that exist in a world that doesn't make much sense in the first place. \n",
    "Let's start over as this would be the initial issue that only leads to more of these problems that spawn from the fact this is a movie based on emoji's. It would probably be big of me to say that this movie isn't bad simply because it is a movie based on emoji's, but it is. It represents everything wrong with the studio system from the perspective of attempting a cash grab without any measure of creativity or thought put into the actual work. \n",
    "\n",
    "'''\n",
    "print(emoji_review)"
   ]
  },
  {
   "cell_type": "code",
   "execution_count": 15,
   "metadata": {},
   "outputs": [
    {
     "data": {
      "text/plain": [
       "'positive'"
      ]
     },
     "execution_count": 15,
     "metadata": {},
     "output_type": "execute_result"
    }
   ],
   "source": [
    "words = word_tokenize(emoji_review)\n",
    "words = refine_word(words)\n",
    "classifier.classify(words)\n",
    "#much of our algorithm depends on the data\n",
    "#in this case, the data has a lot of swear words and is fairly small, but it is a good lesson to learn \n",
    "#for this particular case, the review had to be very very bad for the algorithm to detect negative"
   ]
  },
  {
   "cell_type": "code",
   "execution_count": 16,
   "metadata": {},
   "outputs": [
    {
     "name": "stdout",
     "output_type": "stream",
     "text": [
      "\n",
      "\n",
      "The Emoji Movie is the worst movie I have ever seen in my hopefully short life. The funniest thing about this \"jam packed comedy\" was the fact that I was that nobody in the whole audience was laughing.\n",
      "The plot was predictable I felt no emotion towards a single character. The puns were 💩 quite literally. I had to apologise to my distraught family after taking them to see this film. \n",
      "I knew it would be bad but I didn't think it would be quite this bad.I am still in trouble from my wife for forcing her to put up with all 90 minutes of this predictably boring film.\n",
      "\n"
     ]
    }
   ],
   "source": [
    "emoji_review2 = '''\n",
    "\n",
    "The Emoji Movie is the worst movie I have ever seen in my hopefully short life. The funniest thing about this \"jam packed comedy\" was the fact that I was that nobody in the whole audience was laughing.\n",
    "The plot was predictable I felt no emotion towards a single character. The puns were 💩 quite literally. I had to apologise to my distraught family after taking them to see this film. \n",
    "I knew it would be bad but I didn't think it would be quite this bad.I am still in trouble from my wife for forcing her to put up with all 90 minutes of this predictably boring film.\n",
    "'''\n",
    "print(emoji_review2)"
   ]
  },
  {
   "cell_type": "code",
   "execution_count": 17,
   "metadata": {},
   "outputs": [
    {
     "data": {
      "text/plain": [
       "'negative'"
      ]
     },
     "execution_count": 17,
     "metadata": {},
     "output_type": "execute_result"
    }
   ],
   "source": [
    "words = word_tokenize(emoji_review2)\n",
    "words = refine_word(words)\n",
    "classifier.classify(words)"
   ]
  },
  {
   "cell_type": "code",
   "execution_count": 18,
   "metadata": {
    "collapsed": true
   },
   "outputs": [],
   "source": [
    "getout = '''\n",
    "More than just a standard-issue thriller, this brutal, smart movie is impeccably made, as well as surprising, shocking, and funny, while also offering a compassionate, thoughtful look at race.\n",
    "'''\n",
    "#testing a positive review to confirm"
   ]
  },
  {
   "cell_type": "code",
   "execution_count": 19,
   "metadata": {},
   "outputs": [
    {
     "data": {
      "text/plain": [
       "'positive'"
      ]
     },
     "execution_count": 19,
     "metadata": {},
     "output_type": "execute_result"
    }
   ],
   "source": [
    "words = word_tokenize(getout)\n",
    "words = refine_word(words)\n",
    "classifier.classify(words)\n",
    "#Also good to note our data set was not extremely representative of imdb reviews(hence the disparity)"
   ]
  },
  {
   "cell_type": "code",
   "execution_count": null,
   "metadata": {
    "collapsed": true
   },
   "outputs": [],
   "source": []
  }
 ],
 "metadata": {
  "kernelspec": {
   "display_name": "Python 3",
   "language": "python",
   "name": "python3"
  },
  "language_info": {
   "codemirror_mode": {
    "name": "ipython",
    "version": 3
   },
   "file_extension": ".py",
   "mimetype": "text/x-python",
   "name": "python",
   "nbconvert_exporter": "python",
   "pygments_lexer": "ipython3",
   "version": "3.6.2"
  }
 },
 "nbformat": 4,
 "nbformat_minor": 2
}
